{
 "cells": [
  {
   "cell_type": "code",
   "execution_count": 1,
   "source": [
    "import nltk, re, random\r\n",
    "from nltk import *\r\n",
    "from nltk.corpus import *\r\n",
    "from nltk.corpus import wordnet as wn\r\n",
    "from nltk.corpus import sentiwordnet as swn\r\n",
    "list(swn.senti_synsets('breakdown'))"
   ],
   "outputs": [
    {
     "output_type": "execute_result",
     "data": {
      "text/plain": [
       "[SentiSynset('dislocation.n.02'),\n",
       " SentiSynset('breakdown.n.02'),\n",
       " SentiSynset('breakdown.n.03'),\n",
       " SentiSynset('breakdown.n.04')]"
      ]
     },
     "metadata": {},
     "execution_count": 1
    }
   ],
   "metadata": {}
  },
  {
   "cell_type": "code",
   "execution_count": 4,
   "source": [
    "wn.synsets('breakdown')"
   ],
   "outputs": [
    {
     "output_type": "execute_result",
     "data": {
      "text/plain": [
       "[Synset('dislocation.n.02'),\n",
       " Synset('breakdown.n.02'),\n",
       " Synset('breakdown.n.03'),\n",
       " Synset('breakdown.n.04')]"
      ]
     },
     "metadata": {},
     "execution_count": 4
    }
   ],
   "metadata": {}
  },
  {
   "cell_type": "code",
   "execution_count": 9,
   "source": [
    "breakdown3 = swn.senti_synset('breakdown.n.03')\r\n",
    "print(breakdown3)"
   ],
   "outputs": [
    {
     "output_type": "stream",
     "name": "stdout",
     "text": [
      "<breakdown.n.03: PosScore=0.0 NegScore=0.25>\n"
     ]
    }
   ],
   "metadata": {}
  },
  {
   "cell_type": "code",
   "execution_count": 10,
   "source": [
    "print(breakdown3.obj_score())"
   ],
   "outputs": [
    {
     "output_type": "stream",
     "name": "stdout",
     "text": [
      "0.75\n"
     ]
    }
   ],
   "metadata": {}
  },
  {
   "cell_type": "code",
   "execution_count": 11,
   "source": [
    "wn.synsets('good')"
   ],
   "outputs": [
    {
     "output_type": "execute_result",
     "data": {
      "text/plain": [
       "[Synset('good.n.01'),\n",
       " Synset('good.n.02'),\n",
       " Synset('good.n.03'),\n",
       " Synset('commodity.n.01'),\n",
       " Synset('good.a.01'),\n",
       " Synset('full.s.06'),\n",
       " Synset('good.a.03'),\n",
       " Synset('estimable.s.02'),\n",
       " Synset('beneficial.s.01'),\n",
       " Synset('good.s.06'),\n",
       " Synset('good.s.07'),\n",
       " Synset('adept.s.01'),\n",
       " Synset('good.s.09'),\n",
       " Synset('dear.s.02'),\n",
       " Synset('dependable.s.04'),\n",
       " Synset('good.s.12'),\n",
       " Synset('good.s.13'),\n",
       " Synset('effective.s.04'),\n",
       " Synset('good.s.15'),\n",
       " Synset('good.s.16'),\n",
       " Synset('good.s.17'),\n",
       " Synset('good.s.18'),\n",
       " Synset('good.s.19'),\n",
       " Synset('good.s.20'),\n",
       " Synset('good.s.21'),\n",
       " Synset('well.r.01'),\n",
       " Synset('thoroughly.r.02')]"
      ]
     },
     "metadata": {},
     "execution_count": 11
    }
   ],
   "metadata": {}
  },
  {
   "cell_type": "code",
   "execution_count": 12,
   "source": [
    "nltk.help.upenn_tagset()"
   ],
   "outputs": [
    {
     "output_type": "stream",
     "name": "stdout",
     "text": [
      "$: dollar\n",
      "    $ -$ --$ A$ C$ HK$ M$ NZ$ S$ U.S.$ US$\n",
      "'': closing quotation mark\n",
      "    ' ''\n",
      "(: opening parenthesis\n",
      "    ( [ {\n",
      "): closing parenthesis\n",
      "    ) ] }\n",
      ",: comma\n",
      "    ,\n",
      "--: dash\n",
      "    --\n",
      ".: sentence terminator\n",
      "    . ! ?\n",
      ":: colon or ellipsis\n",
      "    : ; ...\n",
      "CC: conjunction, coordinating\n",
      "    & 'n and both but either et for less minus neither nor or plus so\n",
      "    therefore times v. versus vs. whether yet\n",
      "CD: numeral, cardinal\n",
      "    mid-1890 nine-thirty forty-two one-tenth ten million 0.5 one forty-\n",
      "    seven 1987 twenty '79 zero two 78-degrees eighty-four IX '60s .025\n",
      "    fifteen 271,124 dozen quintillion DM2,000 ...\n",
      "DT: determiner\n",
      "    all an another any both del each either every half la many much nary\n",
      "    neither no some such that the them these this those\n",
      "EX: existential there\n",
      "    there\n",
      "FW: foreign word\n",
      "    gemeinschaft hund ich jeux habeas Haementeria Herr K'ang-si vous\n",
      "    lutihaw alai je jour objets salutaris fille quibusdam pas trop Monte\n",
      "    terram fiche oui corporis ...\n",
      "IN: preposition or conjunction, subordinating\n",
      "    astride among uppon whether out inside pro despite on by throughout\n",
      "    below within for towards near behind atop around if like until below\n",
      "    next into if beside ...\n",
      "JJ: adjective or numeral, ordinal\n",
      "    third ill-mannered pre-war regrettable oiled calamitous first separable\n",
      "    ectoplasmic battery-powered participatory fourth still-to-be-named\n",
      "    multilingual multi-disciplinary ...\n",
      "JJR: adjective, comparative\n",
      "    bleaker braver breezier briefer brighter brisker broader bumper busier\n",
      "    calmer cheaper choosier cleaner clearer closer colder commoner costlier\n",
      "    cozier creamier crunchier cuter ...\n",
      "JJS: adjective, superlative\n",
      "    calmest cheapest choicest classiest cleanest clearest closest commonest\n",
      "    corniest costliest crassest creepiest crudest cutest darkest deadliest\n",
      "    dearest deepest densest dinkiest ...\n",
      "LS: list item marker\n",
      "    A A. B B. C C. D E F First G H I J K One SP-44001 SP-44002 SP-44005\n",
      "    SP-44007 Second Third Three Two * a b c d first five four one six three\n",
      "    two\n",
      "MD: modal auxiliary\n",
      "    can cannot could couldn't dare may might must need ought shall should\n",
      "    shouldn't will would\n",
      "NN: noun, common, singular or mass\n",
      "    common-carrier cabbage knuckle-duster Casino afghan shed thermostat\n",
      "    investment slide humour falloff slick wind hyena override subhumanity\n",
      "    machinist ...\n",
      "NNP: noun, proper, singular\n",
      "    Motown Venneboerger Czestochwa Ranzer Conchita Trumplane Christos\n",
      "    Oceanside Escobar Kreisler Sawyer Cougar Yvette Ervin ODI Darryl CTCA\n",
      "    Shannon A.K.C. Meltex Liverpool ...\n",
      "NNPS: noun, proper, plural\n",
      "    Americans Americas Amharas Amityvilles Amusements Anarcho-Syndicalists\n",
      "    Andalusians Andes Andruses Angels Animals Anthony Antilles Antiques\n",
      "    Apache Apaches Apocrypha ...\n",
      "NNS: noun, common, plural\n",
      "    undergraduates scotches bric-a-brac products bodyguards facets coasts\n",
      "    divestitures storehouses designs clubs fragrances averages\n",
      "    subjectivists apprehensions muses factory-jobs ...\n",
      "PDT: pre-determiner\n",
      "    all both half many quite such sure this\n",
      "POS: genitive marker\n",
      "    ' 's\n",
      "PRP: pronoun, personal\n",
      "    hers herself him himself hisself it itself me myself one oneself ours\n",
      "    ourselves ownself self she thee theirs them themselves they thou thy us\n",
      "PRP$: pronoun, possessive\n",
      "    her his mine my our ours their thy your\n",
      "RB: adverb\n",
      "    occasionally unabatingly maddeningly adventurously professedly\n",
      "    stirringly prominently technologically magisterially predominately\n",
      "    swiftly fiscally pitilessly ...\n",
      "RBR: adverb, comparative\n",
      "    further gloomier grander graver greater grimmer harder harsher\n",
      "    healthier heavier higher however larger later leaner lengthier less-\n",
      "    perfectly lesser lonelier longer louder lower more ...\n",
      "RBS: adverb, superlative\n",
      "    best biggest bluntest earliest farthest first furthest hardest\n",
      "    heartiest highest largest least less most nearest second tightest worst\n",
      "RP: particle\n",
      "    aboard about across along apart around aside at away back before behind\n",
      "    by crop down ever fast for forth from go high i.e. in into just later\n",
      "    low more off on open out over per pie raising start teeth that through\n",
      "    under unto up up-pp upon whole with you\n",
      "SYM: symbol\n",
      "    % & ' '' ''. ) ). * + ,. < = > @ A[fj] U.S U.S.S.R * ** ***\n",
      "TO: \"to\" as preposition or infinitive marker\n",
      "    to\n",
      "UH: interjection\n",
      "    Goodbye Goody Gosh Wow Jeepers Jee-sus Hubba Hey Kee-reist Oops amen\n",
      "    huh howdy uh dammit whammo shucks heck anyways whodunnit honey golly\n",
      "    man baby diddle hush sonuvabitch ...\n",
      "VB: verb, base form\n",
      "    ask assemble assess assign assume atone attention avoid bake balkanize\n",
      "    bank begin behold believe bend benefit bevel beware bless boil bomb\n",
      "    boost brace break bring broil brush build ...\n",
      "VBD: verb, past tense\n",
      "    dipped pleaded swiped regummed soaked tidied convened halted registered\n",
      "    cushioned exacted snubbed strode aimed adopted belied figgered\n",
      "    speculated wore appreciated contemplated ...\n",
      "VBG: verb, present participle or gerund\n",
      "    telegraphing stirring focusing angering judging stalling lactating\n",
      "    hankerin' alleging veering capping approaching traveling besieging\n",
      "    encrypting interrupting erasing wincing ...\n",
      "VBN: verb, past participle\n",
      "    multihulled dilapidated aerosolized chaired languished panelized used\n",
      "    experimented flourished imitated reunifed factored condensed sheared\n",
      "    unsettled primed dubbed desired ...\n",
      "VBP: verb, present tense, not 3rd person singular\n",
      "    predominate wrap resort sue twist spill cure lengthen brush terminate\n",
      "    appear tend stray glisten obtain comprise detest tease attract\n",
      "    emphasize mold postpone sever return wag ...\n",
      "VBZ: verb, present tense, 3rd person singular\n",
      "    bases reconstructs marks mixes displeases seals carps weaves snatches\n",
      "    slumps stretches authorizes smolders pictures emerges stockpiles\n",
      "    seduces fizzes uses bolsters slaps speaks pleads ...\n",
      "WDT: WH-determiner\n",
      "    that what whatever which whichever\n",
      "WP: WH-pronoun\n",
      "    that what whatever whatsoever which who whom whosoever\n",
      "WP$: WH-pronoun, possessive\n",
      "    whose\n",
      "WRB: Wh-adverb\n",
      "    how however whence whenever where whereby whereever wherein whereof why\n",
      "``: opening quotation mark\n",
      "    ` ``\n"
     ]
    }
   ],
   "metadata": {}
  },
  {
   "cell_type": "code",
   "execution_count": 7,
   "source": [
    "list(swn.senti_synsets('great'))"
   ],
   "outputs": [
    {
     "output_type": "execute_result",
     "data": {
      "text/plain": [
       "[SentiSynset('great.n.01'),\n",
       " SentiSynset('great.s.01'),\n",
       " SentiSynset('great.s.02'),\n",
       " SentiSynset('great.s.03'),\n",
       " SentiSynset('bang-up.s.01'),\n",
       " SentiSynset('capital.s.03'),\n",
       " SentiSynset('big.s.13')]"
      ]
     },
     "metadata": {},
     "execution_count": 7
    }
   ],
   "metadata": {}
  },
  {
   "cell_type": "code",
   "execution_count": 16,
   "source": [
    "great3 = swn.senti_synset('great.s.03')\n",
    "print(great3.pos_score(), great3.neg_score(), great3.obj_score())"
   ],
   "outputs": [
    {
     "output_type": "stream",
     "name": "stdout",
     "text": [
      "0.25 0.125 0.625\n"
     ]
    }
   ],
   "metadata": {}
  },
  {
   "cell_type": "code",
   "execution_count": 17,
   "source": [
    "for synset in swn.senti_synsets('great'):\n",
    "    print(synset, synset.obj_score())"
   ],
   "outputs": [
    {
     "output_type": "stream",
     "name": "stdout",
     "text": [
      "<great.n.01: PosScore=0.0 NegScore=0.0> 1.0\n",
      "<great.s.01: PosScore=0.0 NegScore=0.0> 1.0\n",
      "<great.s.02: PosScore=0.75 NegScore=0.0> 0.25\n",
      "<great.s.03: PosScore=0.25 NegScore=0.125> 0.625\n",
      "<bang-up.s.01: PosScore=0.875 NegScore=0.0> 0.125\n",
      "<capital.s.03: PosScore=0.0 NegScore=0.0> 1.0\n",
      "<big.s.13: PosScore=0.0 NegScore=0.0> 1.0\n"
     ]
    }
   ],
   "metadata": {}
  },
  {
   "cell_type": "code",
   "execution_count": 10,
   "source": [
    "sents = sentence_polarity.sents()\n",
    "print(type(sents), len(sents), sentence_polarity.categories())"
   ],
   "outputs": [
    {
     "output_type": "stream",
     "name": "stdout",
     "text": [
      "<class 'nltk.corpus.reader.util.ConcatenatedCorpusView'> 10662 ['neg', 'pos']\n"
     ]
    }
   ],
   "metadata": {}
  },
  {
   "cell_type": "code",
   "execution_count": 18,
   "source": [
    "WordNetLemmatizer().lemmatize('creating', 'v')"
   ],
   "outputs": [
    {
     "output_type": "execute_result",
     "data": {
      "text/plain": [
       "'create'"
      ]
     },
     "metadata": {},
     "execution_count": 18
    }
   ],
   "metadata": {}
  },
  {
   "cell_type": "code",
   "execution_count": 12,
   "source": [
    "for synset in wn.synsets('good'):\n",
    "    print(synset, synset.similar_tos())"
   ],
   "outputs": [
    {
     "output_type": "stream",
     "name": "stdout",
     "text": [
      "Synset('good.n.01') []\n",
      "Synset('good.n.02') []\n",
      "Synset('good.n.03') []\n",
      "Synset('commodity.n.01') []\n",
      "Synset('good.a.01') [Synset('bang-up.s.01'), Synset('good_enough.s.01'), Synset('goodish.s.01'), Synset('hot.s.15'), Synset('redeeming.s.02'), Synset('satisfactory.s.02'), Synset('solid.s.01'), Synset('superb.s.02'), Synset('well-behaved.s.01')]\n",
      "Synset('full.s.06') [Synset('ample.a.01')]\n",
      "Synset('good.a.03') [Synset('angelic.s.01'), Synset('goody-goody.s.01'), Synset('redemptive.s.02'), Synset('white.s.07')]\n",
      "Synset('estimable.s.02') [Synset('reputable.a.01')]\n",
      "Synset('beneficial.s.01') [Synset('advantageous.a.01')]\n",
      "Synset('good.s.06') [Synset('nice.a.01')]\n",
      "Synset('good.s.07') [Synset('righteous.a.01')]\n",
      "Synset('adept.s.01') [Synset('skilled.a.01')]\n",
      "Synset('good.s.09') [Synset('complete.a.01')]\n",
      "Synset('dear.s.02') [Synset('close.a.02')]\n",
      "Synset('dependable.s.04') [Synset('sound.a.01')]\n",
      "Synset('good.s.12') [Synset('opportune.a.01')]\n",
      "Synset('good.s.13') [Synset('fortunate.a.01')]\n",
      "Synset('effective.s.04') [Synset('operative.a.01')]\n",
      "Synset('good.s.15') [Synset('pleasing.a.01')]\n",
      "Synset('good.s.16') [Synset('intellectual.a.02')]\n",
      "Synset('good.s.17') [Synset('healthy.a.01')]\n",
      "Synset('good.s.18') [Synset('healthful.a.01')]\n",
      "Synset('good.s.19') [Synset('genuine.a.01')]\n",
      "Synset('good.s.20') [Synset('fresh.a.01')]\n",
      "Synset('good.s.21') [Synset('discriminating.a.01')]\n",
      "Synset('well.r.01') []\n",
      "Synset('thoroughly.r.02') []\n"
     ]
    }
   ],
   "metadata": {}
  },
  {
   "cell_type": "code",
   "execution_count": 13,
   "source": [
    "WordNetLemmatizer"
   ],
   "outputs": [
    {
     "output_type": "execute_result",
     "data": {
      "text/plain": [
       "nltk.stem.wordnet.WordNetLemmatizer"
      ]
     },
     "metadata": {},
     "execution_count": 13
    }
   ],
   "metadata": {}
  },
  {
   "cell_type": "code",
   "execution_count": 14,
   "source": [
    "list(range(10000000))+[1] == list(range(10000000))+[0]"
   ],
   "outputs": [
    {
     "output_type": "execute_result",
     "data": {
      "text/plain": [
       "False"
      ]
     },
     "metadata": {},
     "execution_count": 14
    }
   ],
   "metadata": {}
  },
  {
   "cell_type": "code",
   "execution_count": 15,
   "source": [
    "if (1 == 0 and list(range(100000000))+[1] == list(range(100000000))+[0]):\n",
    "    print(True)\n",
    "else:\n",
    "    print(False)"
   ],
   "outputs": [
    {
     "output_type": "stream",
     "name": "stdout",
     "text": [
      "False\n"
     ]
    }
   ],
   "metadata": {}
  },
  {
   "cell_type": "code",
   "execution_count": 16,
   "source": [
    "q = []\n",
    "q += ([1, 2, 3])\n",
    "q.append(1)\n",
    "q"
   ],
   "outputs": [
    {
     "output_type": "execute_result",
     "data": {
      "text/plain": [
       "[1, 2, 3, 1]"
      ]
     },
     "metadata": {},
     "execution_count": 16
    }
   ],
   "metadata": {}
  },
  {
   "cell_type": "code",
   "execution_count": 19,
   "source": [
    "def printsyn(s):\n",
    "    print(wn.synset(s).lemmas())\n",
    "    print(wn.synset(s).lemmas()[0].antonyms())\n",
    "    print(wn.synset(s).lemmas()[0].antonyms()[0].synset())"
   ],
   "outputs": [],
   "metadata": {}
  },
  {
   "cell_type": "code",
   "execution_count": 20,
   "source": [
    "for synset in wn.synsets('bad'):\n",
    "    print(synset, synset.similar_tos())\n",
    "    for lemma in synset.lemmas():\n",
    "        print(lemma, '->', lemma.antonyms())\n",
    "    print('------------------------------------------------------')"
   ],
   "outputs": [
    {
     "output_type": "stream",
     "name": "stdout",
     "text": [
      "Synset('bad.n.01') []\n",
      "Lemma('bad.n.01.bad') -> [Lemma('good.n.03.good')]\n",
      "Lemma('bad.n.01.badness') -> [Lemma('good.n.03.goodness')]\n",
      "------------------------------------------------------\n",
      "Synset('bad.a.01') [Synset('atrocious.s.02'), Synset('corked.s.01'), Synset('deplorable.s.01'), Synset('fearful.s.04'), Synset('hard.s.11'), Synset('hopeless.s.04'), Synset('horrid.s.01'), Synset('icky.s.01'), Synset('ill.s.03'), Synset('incompetent.s.04'), Synset('mediocre.s.03'), Synset('naughty.s.02'), Synset('negative.s.03'), Synset('poor.s.06'), Synset('pretty.s.02'), Synset('rubber.s.01'), Synset('severe.s.06'), Synset('swingeing.s.01'), Synset('uncool.s.01'), Synset('unfavorable.s.03'), Synset('unsuitable.s.03')]\n",
      "Lemma('bad.a.01.bad') -> [Lemma('good.a.01.good')]\n",
      "------------------------------------------------------\n",
      "Synset('bad.s.02') [Synset('intense.a.01')]\n",
      "Lemma('bad.s.02.bad') -> []\n",
      "Lemma('bad.s.02.big') -> []\n",
      "------------------------------------------------------\n",
      "Synset('bad.s.03') [Synset('uncomfortable.a.02')]\n",
      "Lemma('bad.s.03.bad') -> []\n",
      "Lemma('bad.s.03.tough') -> []\n",
      "------------------------------------------------------\n",
      "Synset('bad.s.04') [Synset('stale.a.01')]\n",
      "Lemma('bad.s.04.bad') -> []\n",
      "Lemma('bad.s.04.spoiled') -> []\n",
      "Lemma('bad.s.04.spoilt') -> []\n",
      "------------------------------------------------------\n",
      "Synset('regretful.a.01') []\n",
      "Lemma('regretful.a.01.regretful') -> [Lemma('unregretful.a.01.unregretful')]\n",
      "Lemma('regretful.a.01.sorry') -> []\n",
      "Lemma('regretful.a.01.bad') -> []\n",
      "------------------------------------------------------\n",
      "Synset('bad.s.06') [Synset('invalid.a.01')]\n",
      "Lemma('bad.s.06.bad') -> []\n",
      "Lemma('bad.s.06.uncollectible') -> []\n",
      "------------------------------------------------------\n",
      "Synset('bad.s.07') [Synset('inferior.a.02')]\n",
      "Lemma('bad.s.07.bad') -> []\n",
      "------------------------------------------------------\n",
      "Synset('bad.s.08') [Synset('nonstandard.a.01')]\n",
      "Lemma('bad.s.08.bad') -> []\n",
      "------------------------------------------------------\n",
      "Synset('bad.s.09') [Synset('unsound.a.02')]\n",
      "Lemma('bad.s.09.bad') -> []\n",
      "Lemma('bad.s.09.risky') -> []\n",
      "Lemma('bad.s.09.high-risk') -> []\n",
      "Lemma('bad.s.09.speculative') -> []\n",
      "------------------------------------------------------\n",
      "Synset('bad.s.10') [Synset('unhealthy.a.01')]\n",
      "Lemma('bad.s.10.bad') -> []\n",
      "Lemma('bad.s.10.unfit') -> []\n",
      "Lemma('bad.s.10.unsound') -> []\n",
      "------------------------------------------------------\n",
      "Synset('bad.s.11') [Synset('harmful.a.01')]\n",
      "Lemma('bad.s.11.bad') -> []\n",
      "------------------------------------------------------\n",
      "Synset('bad.s.12') [Synset('evil.a.01')]\n",
      "Lemma('bad.s.12.bad') -> []\n",
      "------------------------------------------------------\n",
      "Synset('bad.s.13') [Synset('counterfeit.a.01')]\n",
      "Lemma('bad.s.13.bad') -> []\n",
      "Lemma('bad.s.13.forged') -> []\n",
      "------------------------------------------------------\n",
      "Synset('bad.s.14') [Synset('malfunctioning.a.01')]\n",
      "Lemma('bad.s.14.bad') -> []\n",
      "Lemma('bad.s.14.defective') -> []\n",
      "------------------------------------------------------\n",
      "Synset('badly.r.05') []\n",
      "Lemma('badly.r.05.badly') -> []\n",
      "Lemma('badly.r.05.bad') -> []\n",
      "------------------------------------------------------\n",
      "Synset('badly.r.06') []\n",
      "Lemma('badly.r.06.badly') -> []\n",
      "Lemma('badly.r.06.bad') -> []\n",
      "------------------------------------------------------\n"
     ]
    }
   ],
   "metadata": {}
  },
  {
   "cell_type": "code",
   "execution_count": 44,
   "source": [
    "wn.synset('bad.a.01').lemmas()[0].antonyms()"
   ],
   "outputs": [
    {
     "output_type": "execute_result",
     "data": {
      "text/plain": [
       "[Lemma('good.a.01.good')]"
      ]
     },
     "metadata": {},
     "execution_count": 44
    }
   ],
   "metadata": {}
  },
  {
   "cell_type": "code",
   "execution_count": 84,
   "source": [
    "for lemma in wn.synset('functioning.a.01').lemmas():\n",
    "    print(lemma, lemma.antonyms())"
   ],
   "outputs": [
    {
     "output_type": "stream",
     "name": "stdout",
     "text": [
      "Lemma('functioning.a.01.functioning') [Lemma('malfunctioning.a.01.malfunctioning')]\n"
     ]
    }
   ],
   "metadata": {}
  },
  {
   "cell_type": "code",
   "execution_count": 4,
   "source": [
    "import nltk.metrics\n",
    "nltk.metrics"
   ],
   "outputs": [
    {
     "output_type": "execute_result",
     "data": {
      "text/plain": [
       "<module 'nltk.translate.metrics' from 'D:\\\\Anaconda\\\\lib\\\\site-packages\\\\nltk\\\\translate\\\\metrics.py'>"
      ]
     },
     "metadata": {},
     "execution_count": 4
    }
   ],
   "metadata": {}
  },
  {
   "cell_type": "code",
   "execution_count": null,
   "source": [],
   "outputs": [],
   "metadata": {}
  }
 ],
 "metadata": {
  "kernelspec": {
   "name": "python3",
   "display_name": "Python 3.9.7 64-bit"
  },
  "language_info": {
   "name": "python",
   "version": "3.9.7",
   "mimetype": "text/x-python",
   "codemirror_mode": {
    "name": "ipython",
    "version": 3
   },
   "pygments_lexer": "ipython3",
   "nbconvert_exporter": "python",
   "file_extension": ".py"
  },
  "interpreter": {
   "hash": "ac59ebe37160ed0dfa835113d9b8498d9f09ceb179beaac4002f036b9467c963"
  }
 },
 "nbformat": 4,
 "nbformat_minor": 4
}